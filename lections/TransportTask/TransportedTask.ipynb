{
  "nbformat": 4,
  "nbformat_minor": 0,
  "metadata": {
    "colab": {
      "provenance": []
    },
    "kernelspec": {
      "name": "python3",
      "display_name": "Python 3"
    },
    "language_info": {
      "name": "python"
    }
  },
  "cells": [
    {
      "cell_type": "code",
      "execution_count": 1,
      "metadata": {
        "id": "zHPR1l4ifhYw"
      },
      "outputs": [],
      "source": [
        "cost_table = [ [3, 2, 4, 6], [2, 3, 1, 2], [3, 2, 7, 4] ]\n",
        "supply = [50, 40, 20]\n",
        "demand = [30, 25, 30, 25]"
      ]
    },
    {
      "cell_type": "code",
      "source": [
        "class MethodException(Exception):\n",
        "  pass"
      ],
      "metadata": {
        "id": "SpdKBNfo-bZz"
      },
      "execution_count": 8,
      "outputs": []
    },
    {
      "cell_type": "code",
      "source": [
        "class TransportationProblem:\n",
        "  def __init__(self, cost_table_, supply_, demand_):\n",
        "    self._cost_table = cost_table_\n",
        "    self._supply = supply_\n",
        "    self._demand = demand_\n",
        "    self._history = []\n",
        "\n",
        "  def calculate(self, method):\n",
        "    try:\n",
        "      res_ = method(self._supply, self._demand)\n",
        "      self._history.append({'method': method.__name__, 'result': res_, 'cost': calculate_cost(self._cost_table, res_)})\n",
        "    except MethodException as e:\n",
        "      print(f'Метод {method.__name__} не годится для расчетов')\n",
        "      pass\n"
      ],
      "metadata": {
        "id": "kSQk3xxGAxu2"
      },
      "execution_count": 10,
      "outputs": []
    },
    {
      "cell_type": "code",
      "source": [
        "def north_west_corner(supply_, demand_):\n",
        "  _res = []\n",
        "  _supply = supply_.copy()\n",
        "  _demand = demand_.copy()\n",
        "  i, j = 0, 0\n",
        "\n",
        "  while len(_res) < len(supply_) + len(demand_) - 1:\n",
        "    v = min(_supply[i], _demand[j])\n",
        "    _res.append({'coordinates': (i, j), 'value': v})\n",
        "    _supply[i] -= v\n",
        "    _demand[j] -= v\n",
        "    if _supply[i] == 0 and i < len(_supply):\n",
        "      i += 1\n",
        "    elif _demand[i] == 0 and j < len(_demand):\n",
        "      j += 1\n",
        "    else:\n",
        "      raise MethodException(\"Задача не имеет решение северо-западного угла\")\n",
        "  return _res"
      ],
      "metadata": {
        "id": "eHD3iNEX3GoI"
      },
      "execution_count": 12,
      "outputs": []
    },
    {
      "cell_type": "code",
      "source": [
        "def calculate_cost(cost_table_, plan_):\n",
        "  _cost = 0\n",
        "  for _cell in plan_:\n",
        "    _coords = _cell['coordinates']\n",
        "    _cost += cost_table_[_coords[0]][_coords[1]] * _cell['value']\n",
        "  return _cost"
      ],
      "metadata": {
        "id": "avixWGUx88ck"
      },
      "execution_count": 6,
      "outputs": []
    },
    {
      "cell_type": "code",
      "source": [
        "res = north_west_corner(supply_=supply, demand_=demand)\n",
        "print(res)\n",
        "print(calculate_cost(cost_table_=cost_table, plan_=res))"
      ],
      "metadata": {
        "colab": {
          "base_uri": "https://localhost:8080/"
        },
        "id": "vupQ3nWV8lQL",
        "outputId": "bc0197ca-27e8-491c-c963-79bcc463de38"
      },
      "execution_count": 7,
      "outputs": [
        {
          "output_type": "stream",
          "name": "stdout",
          "text": [
            "[{'coordinates': (0, 0), 'value': 30}, {'coordinates': (0, 1), 'value': 20}, {'coordinates': (1, 1), 'value': 5}, {'coordinates': (1, 2), 'value': 30}, {'coordinates': (1, 3), 'value': 5}, {'coordinates': (2, 3), 'value': 20}]\n",
            "265\n"
          ]
        }
      ]
    },
    {
      "cell_type": "code",
      "source": [
        "tr_pr = TransportationProblem(cost_table_=cost_table, supply_=supply, demand_=demand)\n",
        "tr_pr.calculate(method=north_west_corner)\n",
        "print(tr_pr._history)"
      ],
      "metadata": {
        "colab": {
          "base_uri": "https://localhost:8080/"
        },
        "id": "gulpY4IREJSh",
        "outputId": "8300df51-eb21-43d7-e8da-a11c868b5b48"
      },
      "execution_count": 17,
      "outputs": [
        {
          "output_type": "stream",
          "name": "stdout",
          "text": [
            "[{'method': 'north_west_corner', 'result': [{'coordinates': (0, 0), 'value': 30}, {'coordinates': (0, 1), 'value': 20}, {'coordinates': (1, 1), 'value': 5}, {'coordinates': (1, 2), 'value': 30}, {'coordinates': (1, 3), 'value': 5}, {'coordinates': (2, 3), 'value': 20}], 'cost': 265}]\n"
          ]
        }
      ]
    }
  ]
}