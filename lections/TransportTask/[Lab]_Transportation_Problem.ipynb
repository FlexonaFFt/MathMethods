{
  "nbformat": 4,
  "nbformat_minor": 0,
  "metadata": {
    "colab": {
      "provenance": []
    },
    "kernelspec": {
      "name": "python3",
      "display_name": "Python 3"
    },
    "language_info": {
      "name": "python"
    }
  },
  "cells": [
    {
      "cell_type": "code",
      "execution_count": null,
      "metadata": {
        "id": "2YekYJU02UtF"
      },
      "outputs": [],
      "source": [
        "cost_table = [ [ 3, 2, 4, 6 ],\n",
        "               [ 2, 3, 1, 2 ],\n",
        "               [ 3, 2, 7, 4]\n",
        "             ]\n",
        "\n",
        "supply = [ 50, 40, 20 ]\n",
        "\n",
        "demand = [ 30, 25, 30, 25 ]"
      ]
    },
    {
      "cell_type": "code",
      "source": [
        "def calculate_cost(cost_table_, plan_):\n",
        "  _cost = 0\n",
        "  for _cell in plan_:\n",
        "    _coords = _cell['Coordinates']\n",
        "    _cost += cost_table_[_coords[0]][_coords[1]] * _cell['Value']\n",
        "  return _cost"
      ],
      "metadata": {
        "id": "u9rbrZNi8yNP"
      },
      "execution_count": null,
      "outputs": []
    },
    {
      "cell_type": "markdown",
      "source": [
        "# Класс транспортной задачи"
      ],
      "metadata": {
        "id": "WLeos3IWtQAG"
      }
    },
    {
      "cell_type": "markdown",
      "source": [
        "Добавим класс исключений, отражающий ошибки, возникающие при работе того или иного вычислительного метода:"
      ],
      "metadata": {
        "id": "tUsEEomu-vTZ"
      }
    },
    {
      "cell_type": "code",
      "source": [
        "class MyClass:\n",
        "  _var = 0\n",
        "\n",
        "  def __init__(self, a_):\n",
        "    self._a = a_\n",
        "\n",
        "obj01 = MyClass(a_=5) # _var = 0\n",
        "obj02 = MyClass(a_=7) # _var = 0\n",
        "\n",
        "MyClass._var = 10       # _var = 10\n",
        "\n",
        "print(obj01._var)\n",
        "print(obj02._var)"
      ],
      "metadata": {
        "colab": {
          "base_uri": "https://localhost:8080/"
        },
        "id": "MSIhh-B1Nkq0",
        "outputId": "67e15c39-0635-48d7-cd1d-99337745f82a"
      },
      "execution_count": null,
      "outputs": [
        {
          "output_type": "stream",
          "name": "stdout",
          "text": [
            "10\n",
            "10\n"
          ]
        }
      ]
    },
    {
      "cell_type": "code",
      "source": [
        "class MethodException(Exception):\n",
        "  pass"
      ],
      "metadata": {
        "id": "CVqgop8p-ViO"
      },
      "execution_count": null,
      "outputs": []
    },
    {
      "cell_type": "code",
      "source": [
        "class TransportationProblem:\n",
        "  # Классовая переменная, которая хранит номенклатуру успешных расчетных методов:\n",
        "  _methods = set()\n",
        "\n",
        "  def __init__(self, cost_table_, supply_, demand_):\n",
        "    self._cost_table = cost_table_\n",
        "    self._supply = supply_\n",
        "    self._demand = demand_\n",
        "    self._history = []\n",
        "\n",
        "  def calculate(self, method):\n",
        "    try:\n",
        "      res_ = method(self._supply, self._demand) # Найти способ передавать методы с разным количеством аргументов\n",
        "      try:\n",
        "        self._history.append({'Method': method.__name__,\n",
        "                            'Result': res_,\n",
        "                            'Cost': calculate_cost(cost_table_=self._cost_table,\n",
        "                                                   plan_=res_)})\n",
        "      except AttributeError:\n",
        "        self._history.append({'Method': 'Unknown',\n",
        "                              'Result': res_,\n",
        "                              'Cost': calculate_cost(cost_table_=self._cost_table,\n",
        "                                                   plan_=res_)})\n",
        "      TransportationProblem._methods.add(method)\n",
        "    except Exception as e:\n",
        "      TransportationProblem._methods.discard(method)\n",
        "      if e is MethodException:\n",
        "        print(f'Метод {method.__name__} не справился с расчетами')\n",
        "      print(f'Метод {method.__name__} не может быть использован')\n",
        "      print(e)\n",
        "      pass"
      ],
      "metadata": {
        "id": "LguR7FlmAoUJ"
      },
      "execution_count": null,
      "outputs": []
    },
    {
      "cell_type": "markdown",
      "source": [
        "# Методы"
      ],
      "metadata": {
        "id": "DyJ0y3qXtV5a"
      }
    },
    {
      "cell_type": "markdown",
      "source": [
        "## Метод северо-западного угла\n",
        "\n",
        "Ниже приведена реализация метода:"
      ],
      "metadata": {
        "id": "_ykBey0E-6Gq"
      }
    },
    {
      "cell_type": "code",
      "source": [
        "def north_west_corner(supply_, demand_):\n",
        "  # Результирующий список, отвечающий плану:\n",
        "  _res = []\n",
        "  # Создадим копии коллекций, сохраняющих запасы и спросы:\n",
        "  _supply = supply_.copy()\n",
        "  _demand = demand_.copy()\n",
        "  # Создаем итераторы по индексам контрагентов в таблице:\n",
        "  i = 0\n",
        "  j = 0\n",
        "  # Основной цикл:\n",
        "  while len(_res) < len(supply_) + len(demand_) - 1:\n",
        "    # Находим минимум между текущими значениями спроса и предложения\n",
        "    # для очередной пары контрагентов:\n",
        "    v = min(_supply[i], _demand[j])\n",
        "    # Зафиксируем в результатах:\n",
        "    _res.append({'Coordinates': (i, j), 'Value': v})\n",
        "    # Уменьшаем запас поставщика i и спрос потребителя j на величину v:\n",
        "    _supply[i] -= v\n",
        "    _demand[j] -= v\n",
        "    # Определяем маршрут дальнейшего движения по таблице:\n",
        "    if _supply[i] == 0 and i < len(_supply):\n",
        "      i += 1\n",
        "    elif _demand[j] == 0 and j < len(_demand):\n",
        "      j += 1\n",
        "    else:\n",
        "      raise MethodException('Задача не имеет решения методом северо-западного угла')\n",
        "  # Возвращаем список загруженных ячеек с указанием значений, которыми они загружены:\n",
        "  return _res"
      ],
      "metadata": {
        "id": "hOjaSAw3291U"
      },
      "execution_count": null,
      "outputs": []
    },
    {
      "cell_type": "code",
      "source": [
        "res = north_west_corner(supply_=supply, demand_=demand)\n",
        "print(res)\n",
        "print(calculate_cost(cost_table_=cost_table, plan_=res))"
      ],
      "metadata": {
        "colab": {
          "base_uri": "https://localhost:8080/"
        },
        "id": "xQeqrIyV8a-B",
        "outputId": "ff661da6-c7cf-45f5-e526-9b9ae5d82101"
      },
      "execution_count": null,
      "outputs": [
        {
          "output_type": "stream",
          "name": "stdout",
          "text": [
            "[{'Coordinates': (0, 0), 'Value': 30}, {'Coordinates': (0, 1), 'Value': 20}, {'Coordinates': (1, 1), 'Value': 5}, {'Coordinates': (1, 2), 'Value': 30}, {'Coordinates': (1, 3), 'Value': 5}, {'Coordinates': (2, 3), 'Value': 20}]\n",
            "265\n"
          ]
        }
      ]
    },
    {
      "cell_type": "code",
      "source": [
        "print(north_west_corner)\n",
        "print(north_west_corner.__name__)"
      ],
      "metadata": {
        "colab": {
          "base_uri": "https://localhost:8080/"
        },
        "id": "qfX8X_WgCUCC",
        "outputId": "2937dc04-424b-4a78-a720-ed534f8ff973"
      },
      "execution_count": null,
      "outputs": [
        {
          "output_type": "stream",
          "name": "stdout",
          "text": [
            "<function north_west_corner at 0x7c101dd32560>\n",
            "north_west_corner\n"
          ]
        }
      ]
    },
    {
      "cell_type": "markdown",
      "source": [
        "## Метод минимального тарифа"
      ],
      "metadata": {
        "id": "JZ4QgVRdtcu6"
      }
    },
    {
      "cell_type": "code",
      "source": [
        "s = { 1, 1, 2, 3 }\n",
        "print(s)\n",
        "\n",
        "it = iter(s)\n",
        "one = next(it)\n",
        "print(one)\n",
        "\n",
        "two = next(it)\n",
        "print(two)\n",
        "\n",
        "three = next(it)\n",
        "print(three)\n",
        "\n",
        "print(len(s))"
      ],
      "metadata": {
        "colab": {
          "base_uri": "https://localhost:8080/"
        },
        "id": "fsFAfWdrvtFH",
        "outputId": "34a6fe86-168e-4995-e654-5324d39c9b14"
      },
      "execution_count": null,
      "outputs": [
        {
          "output_type": "stream",
          "name": "stdout",
          "text": [
            "{1, 2, 3}\n",
            "1\n",
            "2\n",
            "3\n",
            "3\n"
          ]
        }
      ]
    },
    {
      "cell_type": "code",
      "source": [
        "class MinCostMethodException(Exception):\n",
        "  pass"
      ],
      "metadata": {
        "id": "PXUDjcXK5VH2"
      },
      "execution_count": null,
      "outputs": []
    },
    {
      "cell_type": "code",
      "source": [
        "from itertools import product"
      ],
      "metadata": {
        "id": "rqZaoJw9xpmy"
      },
      "execution_count": null,
      "outputs": []
    },
    {
      "cell_type": "code",
      "source": [
        "def find_min_cost(cost_table_, rows_excluded_, columns_excluded_):\n",
        "  _rows_excluded = set(rows_excluded_)\n",
        "  _columns_excluded = set(columns_excluded_)\n",
        "  if len(_rows_excluded) >= len(cost_table_) or len(_columns_excluded) >= len(cost_table[0]):\n",
        "    raise MinCostMethodException('Исключено слишком много строк или столбцов')\n",
        "  _rows_set = set([i for i in range(len(cost_table_))]) - _rows_excluded\n",
        "  _columns_set = set([j for j in range(len(cost_table_[0]))]) - _columns_excluded\n",
        "  # Вход в цикл:\n",
        "  _i_min = next(iter(_rows_set))\n",
        "  _j_min = next(iter(_columns_set))\n",
        "  _c = cost_table_[_i_min][_j_min]\n",
        "  # Формируем набор всевозможных пар строкового и столбцового индексов,\n",
        "  # которые остались после исключения:\n",
        "  _coords = product(_rows_set, _columns_set)\n",
        "  # Итерируем, чтобы найти минимальный тариф:\n",
        "  for _coord in _coords:  # _coord = (i, j)\n",
        "    _cost = cost_table_[_coord[0]][_coord[1]]\n",
        "    if _cost < _c:\n",
        "      _i_min = _coord[0]\n",
        "      _j_min = _coord[1]\n",
        "      _c = _cost\n",
        "  return _i_min, _j_min, _c"
      ],
      "metadata": {
        "id": "C0wC00vktgzx"
      },
      "execution_count": null,
      "outputs": []
    },
    {
      "cell_type": "code",
      "source": [
        "i, j, cost = find_min_cost(cost_table_=cost_table, rows_excluded_=[1], columns_excluded_=[])\n",
        "print(f'Минимальная стоимость {cost} обнаружена в ячейке ({i}, {j})')"
      ],
      "metadata": {
        "colab": {
          "base_uri": "https://localhost:8080/"
        },
        "id": "fVIjwvnD0G5A",
        "outputId": "b31b9149-b389-4b4b-f100-6747a71f3d21"
      },
      "execution_count": null,
      "outputs": [
        {
          "output_type": "stream",
          "name": "stdout",
          "text": [
            "Минимальная стоимость 2 обнаружена в ячейке (0, 1)\n"
          ]
        }
      ]
    },
    {
      "cell_type": "code",
      "source": [
        "def min_cost_method(cost_table_, supply_, demand_):\n",
        "  # Создаем копии входящих значений:\n",
        "  _supply = supply_.copy()\n",
        "  _demand = demand_.copy()\n",
        "  # Переменные для формирования результата:\n",
        "  _plan = []\n",
        "  # Множества для хранения исключенных строк и столбцов:\n",
        "  _rows_excluded = set()\n",
        "  _columns_excluded = set()\n",
        "  # Основной цикл, в котором условие остановки -- Условие 1 из презентации:\n",
        "  while len(_plan) < len(supply_) + len(demand_) - 1:\n",
        "    try:\n",
        "      _i, _j, _min_cost = find_min_cost(cost_table_, _rows_excluded, _columns_excluded)\n",
        "      # Обновление запаса и спроса:\n",
        "      _s = _supply[_i]\n",
        "      _d = _demand[_j]\n",
        "      if _s <= _d:\n",
        "        _rows_excluded.add(_i)\n",
        "        _demand[_j] -= _s\n",
        "      else:\n",
        "        _columns_excluded.add(_j)\n",
        "        _supply[_i] -= _d\n",
        "       # Обновляем план перевозок:\n",
        "      _plan.append({'Coordinates': (_i, _j), 'Value': min(_s, _d)})\n",
        "    except MinCostMethodException:\n",
        "      return _plan\n",
        "  # Вовзращаем результат -- опорный план перевозок:\n",
        "  return _plan"
      ],
      "metadata": {
        "id": "I9IiK4_A0z1N"
      },
      "execution_count": null,
      "outputs": []
    },
    {
      "cell_type": "code",
      "source": [
        "pl_min = min_cost_method(cost_table_=cost_table, supply_=supply, demand_=demand)\n",
        "print(pl_min)\n",
        "print(calculate_cost(cost_table_=cost_table, plan_=pl_min))"
      ],
      "metadata": {
        "colab": {
          "base_uri": "https://localhost:8080/"
        },
        "id": "L1OMrhCK3k3F",
        "outputId": "dd002c32-fcd4-4ced-b3d8-30ac685bb2d6"
      },
      "execution_count": null,
      "outputs": [
        {
          "output_type": "stream",
          "name": "stdout",
          "text": [
            "[{'Coordinates': (1, 2), 'Value': 30}, {'Coordinates': (0, 1), 'Value': 25}, {'Coordinates': (1, 0), 'Value': 10}, {'Coordinates': (0, 0), 'Value': 20}, {'Coordinates': (2, 3), 'Value': 20}, {'Coordinates': (0, 3), 'Value': 5}]\n",
            "270\n"
          ]
        }
      ]
    },
    {
      "cell_type": "markdown",
      "source": [
        "## Метод Фогеля"
      ],
      "metadata": {
        "id": "0fgFNBvW_cUY"
      }
    },
    {
      "cell_type": "code",
      "source": [
        "def penalty_in_list(input_list_):\n",
        "  try:\n",
        "    _l = input_list_.copy()\n",
        "    _l.sort()\n",
        "    return _l[1] - _l[0]\n",
        "  except IndexError:\n",
        "    return -1"
      ],
      "metadata": {
        "id": "5zoPNIw4_e-n"
      },
      "execution_count": null,
      "outputs": []
    },
    {
      "cell_type": "code",
      "source": [
        "def analyze_table(cost_table_, rows_included_, columns_included_):\n",
        "  # Вспомогательные функции:\n",
        "  _get_col = lambda j, inds: [cost_table_[i][j] for i in inds]\n",
        "  _get_row = lambda i, inds: [cost_table[i][j] for j in inds]\n",
        "  # Функции для расчета штрафов на контрагентах:\n",
        "  _penalty_in_col = lambda j: (j, max(penalty_in_list(_get_col(j, rows_included_)), -1))\n",
        "  _penalty_in_row = lambda i: (i, max(penalty_in_list(_get_row(i, columns_included_)), -1))\n",
        "  # Функции для расчета максимальных штрафов по таблице:\n",
        "  _max_penalty_in_col = max([_penalty_in_col(j) for j in columns_included_], key=lambda el: el[1])\n",
        "  _max_penalty_in_row = max([_penalty_in_row(i) for i in rows_included_], key=lambda el: el[1])\n",
        "  # Анализ максимальных штрафов:\n",
        "  if _max_penalty_in_row[0] >= _max_penalty_in_col[0]:\n",
        "    _i = _max_penalty_in_row[0]\n",
        "    _row = _get_row(_i, columns_included_)\n",
        "    _min_cost = min(_row)\n",
        "    return _i, [j for j, cost in enumerate(cost_table_[_i])\n",
        "                                  if j in columns_included_ and cost == _min_cost][0], _min_cost # i, j, min_cost\n",
        "  else:\n",
        "    _j = _max_penalty_in_col[0]\n",
        "    _col = _get_col(_j, rows_included_)\n",
        "    _min_cost = min(_col)\n",
        "    return [i for i, cost in enumerate(_get_col(_j, list(range(len(cost_table)))))\n",
        "                                  if i in rows_included_ and cost == _min_cost][0], _j, _min_cost"
      ],
      "metadata": {
        "id": "U7QSKsA5Amnz"
      },
      "execution_count": null,
      "outputs": []
    },
    {
      "cell_type": "code",
      "source": [
        "def vogel(cost_table_, supply_, demand_):\n",
        "  _supply = supply_.copy()\n",
        "  _demand = demand_.copy()\n",
        "  print(_supply)\n",
        "  _plan = []\n",
        "  # Характеристики таблицы:\n",
        "  _m = len(cost_table)\n",
        "  _n = len(cost_table[0])\n",
        "  # Разрешенные индексы:\n",
        "  _row_inds = list(range(_m))\n",
        "  _col_inds = list(range(_n))\n",
        "  # Основной цикл:\n",
        "  while len(_plan) < _m + _n - 1:\n",
        "    # Ищем целевую ячейку:\n",
        "    _i, _j, _cost = analyze_table(cost_table_, _row_inds, _col_inds)\n",
        "    # print(f'Найденная ячейка: ({_i}, {_j}), стоимость: {_cost}')\n",
        "    # Определяем груз, который отправляется между контрагентами:\n",
        "    _cargo = min(_supply[_i], _demand[_j])\n",
        "    # print(_cargo)\n",
        "    # Осуществляем отправление груза:\n",
        "    _supply[_i] -= _cargo\n",
        "    _demand[_j] -= _cargo\n",
        "    # print(f'Запас поставщика {_i}: {_supply[_i]}, спрос потребителя {_j}: {_demand[_j]}')\n",
        "    # Фиксируем это в плане:\n",
        "    _plan.append({'Coordinates': (_i, _j), 'Value': _cargo})\n",
        "    # Вычеркиваем строку или столбец:\n",
        "    if _supply[_i] == 0:\n",
        "      _row_inds.remove(_i)\n",
        "    elif _demand[_j] == 0:\n",
        "      _col_inds.remove(_j)\n",
        "    else:\n",
        "      raise MethodException('Проблема!')\n",
        "  # Результат:\n",
        "  return _plan"
      ],
      "metadata": {
        "id": "B5rClamXIX2j"
      },
      "execution_count": null,
      "outputs": []
    },
    {
      "cell_type": "code",
      "source": [
        "res01 = vogel(cost_table_=cost_table, supply_=supply, demand_=demand)\n",
        "print(res01)\n",
        "print(calculate_cost(cost_table_=cost_table, plan_=res01))"
      ],
      "metadata": {
        "colab": {
          "base_uri": "https://localhost:8080/"
        },
        "id": "JGFo-EMMKXJB",
        "outputId": "babf4192-a22d-4bb2-a2e2-f74d66cf4f37"
      },
      "execution_count": null,
      "outputs": [
        {
          "output_type": "stream",
          "name": "stdout",
          "text": [
            "[{'Coordinates': (1, 2), 'Value': 30}, {'Coordinates': (1, 3), 'Value': 10}, {'Coordinates': (2, 3), 'Value': 15}, {'Coordinates': (0, 1), 'Value': 25}, {'Coordinates': (0, 0), 'Value': 25}, {'Coordinates': (2, 0), 'Value': 5}]\n",
            "250\n"
          ]
        }
      ]
    },
    {
      "cell_type": "markdown",
      "source": [
        "# Эксперименты"
      ],
      "metadata": {
        "id": "2mDrRG0lEZFf"
      }
    },
    {
      "cell_type": "code",
      "source": [
        "from functools import partial"
      ],
      "metadata": {
        "id": "3lRHI9aFPiG4"
      },
      "execution_count": null,
      "outputs": []
    },
    {
      "cell_type": "code",
      "source": [
        "tr_pr = TransportationProblem(cost_table_=cost_table,\n",
        "                              supply_=supply,\n",
        "                              demand_=demand)\n",
        "\n",
        "tr_pr.calculate(method=partial(vogel, tr_pr._cost_table))\n",
        "\n",
        "print(tr_pr._history)"
      ],
      "metadata": {
        "colab": {
          "base_uri": "https://localhost:8080/"
        },
        "id": "F5b9kjukD_mY",
        "outputId": "407b0997-ed29-4644-88a7-9a2b7bc478a1"
      },
      "execution_count": null,
      "outputs": [
        {
          "output_type": "stream",
          "name": "stdout",
          "text": [
            "[50, 40, 20]\n",
            "[{'Method': 'Unknown', 'Result': [{'Coordinates': (1, 2), 'Value': 30}, {'Coordinates': (1, 3), 'Value': 10}, {'Coordinates': (2, 3), 'Value': 15}, {'Coordinates': (0, 1), 'Value': 25}, {'Coordinates': (0, 0), 'Value': 25}, {'Coordinates': (2, 0), 'Value': 5}], 'Cost': 250}]\n"
          ]
        }
      ]
    },
    {
      "cell_type": "code",
      "source": [
        "tr_pr.calculate(method=print)"
      ],
      "metadata": {
        "colab": {
          "base_uri": "https://localhost:8080/"
        },
        "id": "SLKfYy3dEva6",
        "outputId": "d6651d0f-a045-4b26-bb67-c72620224cb6"
      },
      "execution_count": null,
      "outputs": [
        {
          "output_type": "stream",
          "name": "stdout",
          "text": [
            "[50, 40, 20] [30, 25, 30, 25]\n",
            "Метод print не может быть использован\n",
            "'NoneType' object is not iterable\n"
          ]
        }
      ]
    },
    {
      "cell_type": "code",
      "source": [
        "print([1,2,3], [4,5,6])"
      ],
      "metadata": {
        "colab": {
          "base_uri": "https://localhost:8080/"
        },
        "id": "2gQtypq6FXfG",
        "outputId": "91796648-3f8f-4d77-9630-2de18e871bdc"
      },
      "execution_count": null,
      "outputs": [
        {
          "output_type": "stream",
          "name": "stdout",
          "text": [
            "[1, 2, 3] [4, 5, 6]\n"
          ]
        }
      ]
    }
  ]
}