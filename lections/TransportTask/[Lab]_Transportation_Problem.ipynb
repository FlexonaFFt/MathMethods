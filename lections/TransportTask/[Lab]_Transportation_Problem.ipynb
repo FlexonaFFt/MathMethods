{
  "nbformat": 4,
  "nbformat_minor": 0,
  "metadata": {
    "colab": {
      "provenance": []
    },
    "kernelspec": {
      "name": "python3",
      "display_name": "Python 3"
    },
    "language_info": {
      "name": "python"
    }
  },
  "cells": [
    {
      "cell_type": "code",
      "execution_count": null,
      "metadata": {
        "id": "2YekYJU02UtF"
      },
      "outputs": [],
      "source": [
        "cost_table = [ [ 3, 2, 4, 6 ],\n",
        "               [ 2, 3, 1, 2 ],\n",
        "               [ 3, 2, 7, 4]\n",
        "             ]\n",
        "\n",
        "supply = [ 50, 40, 20 ]\n",
        "\n",
        "demand = [ 30, 25, 30, 25 ]"
      ]
    },
    {
      "cell_type": "code",
      "source": [
        "def calculate_cost(cost_table_, plan_):\n",
        "  _cost = 0\n",
        "  for _cell in plan_:\n",
        "    _coords = _cell['Coordinates']\n",
        "    _cost += cost_table_[_coords[0]][_coords[1]] * _cell['Value']\n",
        "  return _cost"
      ],
      "metadata": {
        "id": "u9rbrZNi8yNP"
      },
      "execution_count": null,
      "outputs": []
    },
    {
      "cell_type": "markdown",
      "source": [
        "Добавим класс исключений, отражающий ошибки, возникающие при работе того или иного вычислительного метода:"
      ],
      "metadata": {
        "id": "tUsEEomu-vTZ"
      }
    },
    {
      "cell_type": "code",
      "source": [
        "class MethodException(Exception):\n",
        "  pass"
      ],
      "metadata": {
        "id": "CVqgop8p-ViO"
      },
      "execution_count": null,
      "outputs": []
    },
    {
      "cell_type": "code",
      "source": [
        "class TransportationProblem:\n",
        "  def __init__(self, cost_table_, supply_, demand_):\n",
        "    self._cost_table = cost_table_\n",
        "    self._supply = supply_\n",
        "    self._demand = demand_\n",
        "    self._history = []\n",
        "\n",
        "  def calculate(self, method):\n",
        "    try:\n",
        "      res_ = method(self._supply, self._demand) # Найти способ передавать методы с разным количеством аргументов\n",
        "      self._history.append({'Method': method.__name__,\n",
        "                            'Result': res_,\n",
        "                            'Cost': calculate_cost(cost_table_=self._cost_table,\n",
        "                                                   plan_=res_)})\n",
        "    except Exception as e:\n",
        "      if e is MethodException:\n",
        "        print(f'Метод {method.__name__} не справился с расчетами')\n",
        "      print(f'Метод {method.__name__} не может быть использован')\n",
        "      print(e)\n",
        "      pass"
      ],
      "metadata": {
        "id": "LguR7FlmAoUJ"
      },
      "execution_count": null,
      "outputs": []
    },
    {
      "cell_type": "markdown",
      "source": [
        "## Метод северо-западного угла\n",
        "\n",
        "Ниже приведена реализация метода:"
      ],
      "metadata": {
        "id": "_ykBey0E-6Gq"
      }
    },
    {
      "cell_type": "code",
      "source": [
        "def north_west_corner(supply_, demand_):\n",
        "  # Результирующий список, отвечающий плану:\n",
        "  _res = []\n",
        "  # Создадим копии коллекций, сохраняющих запасы и спросы:\n",
        "  _supply = supply_.copy()\n",
        "  _demand = demand_.copy()\n",
        "  # Создаем итераторы по индексам контрагентов в таблице:\n",
        "  i = 0\n",
        "  j = 0\n",
        "  # Основной цикл:\n",
        "  while len(_res) < len(supply_) + len(demand_) - 1:\n",
        "    # Находим минимум между текущими значениями спроса и предложения\n",
        "    # для очередной пары контрагентов:\n",
        "    v = min(_supply[i], _demand[j])\n",
        "    # Зафиксируем в результатах:\n",
        "    _res.append({'Coordinates': (i, j), 'Value': v})\n",
        "    # Уменьшаем запас поставщика i и спрос потребителя j на величину v:\n",
        "    _supply[i] -= v\n",
        "    _demand[j] -= v\n",
        "    # Определяем маршрут дальнейшего движения по таблице:\n",
        "    if _supply[i] == 0 and i < len(_supply):\n",
        "      i += 1\n",
        "    elif _demand[j] == 0 and j < len(_demand):\n",
        "      j += 1\n",
        "    else:\n",
        "      raise MethodException('Задача не имеет решения методом северо-западного угла')\n",
        "  # Возвращаем список загруженных ячеек с указанием значений, которыми они загружены:\n",
        "  return _res"
      ],
      "metadata": {
        "id": "hOjaSAw3291U"
      },
      "execution_count": null,
      "outputs": []
    },
    {
      "cell_type": "code",
      "source": [
        "res = north_west_corner(supply_=supply, demand_=demand)\n",
        "print(res)\n",
        "print(calculate_cost(cost_table_=cost_table, plan_=res))"
      ],
      "metadata": {
        "colab": {
          "base_uri": "https://localhost:8080/"
        },
        "id": "xQeqrIyV8a-B",
        "outputId": "ff661da6-c7cf-45f5-e526-9b9ae5d82101"
      },
      "execution_count": null,
      "outputs": [
        {
          "output_type": "stream",
          "name": "stdout",
          "text": [
            "[{'Coordinates': (0, 0), 'Value': 30}, {'Coordinates': (0, 1), 'Value': 20}, {'Coordinates': (1, 1), 'Value': 5}, {'Coordinates': (1, 2), 'Value': 30}, {'Coordinates': (1, 3), 'Value': 5}, {'Coordinates': (2, 3), 'Value': 20}]\n",
            "265\n"
          ]
        }
      ]
    },
    {
      "cell_type": "code",
      "source": [
        "print(north_west_corner)\n",
        "print(north_west_corner.__name__)"
      ],
      "metadata": {
        "colab": {
          "base_uri": "https://localhost:8080/"
        },
        "id": "qfX8X_WgCUCC",
        "outputId": "2937dc04-424b-4a78-a720-ed534f8ff973"
      },
      "execution_count": null,
      "outputs": [
        {
          "output_type": "stream",
          "name": "stdout",
          "text": [
            "<function north_west_corner at 0x7c101dd32560>\n",
            "north_west_corner\n"
          ]
        }
      ]
    },
    {
      "cell_type": "markdown",
      "source": [
        "# Эксперименты"
      ],
      "metadata": {
        "id": "2mDrRG0lEZFf"
      }
    },
    {
      "cell_type": "code",
      "source": [
        "tr_pr = TransportationProblem(cost_table_=cost_table,\n",
        "                              supply_=[],\n",
        "                              demand_=demand)\n",
        "\n",
        "tr_pr.calculate(method=north_west_corner)\n",
        "\n",
        "print(tr_pr._history)"
      ],
      "metadata": {
        "colab": {
          "base_uri": "https://localhost:8080/"
        },
        "id": "F5b9kjukD_mY",
        "outputId": "db0c56f9-4e9a-4a3c-fd76-3a6128dbcd82"
      },
      "execution_count": null,
      "outputs": [
        {
          "output_type": "stream",
          "name": "stdout",
          "text": [
            "Метод north_west_corner не может быть использован\n",
            "list index out of range\n",
            "[]\n"
          ]
        }
      ]
    },
    {
      "cell_type": "code",
      "source": [
        "tr_pr.calculate(method=print)"
      ],
      "metadata": {
        "colab": {
          "base_uri": "https://localhost:8080/"
        },
        "id": "SLKfYy3dEva6",
        "outputId": "d6651d0f-a045-4b26-bb67-c72620224cb6"
      },
      "execution_count": null,
      "outputs": [
        {
          "output_type": "stream",
          "name": "stdout",
          "text": [
            "[50, 40, 20] [30, 25, 30, 25]\n",
            "Метод print не может быть использован\n",
            "'NoneType' object is not iterable\n"
          ]
        }
      ]
    },
    {
      "cell_type": "code",
      "source": [
        "print([1,2,3], [4,5,6])"
      ],
      "metadata": {
        "colab": {
          "base_uri": "https://localhost:8080/"
        },
        "id": "2gQtypq6FXfG",
        "outputId": "91796648-3f8f-4d77-9630-2de18e871bdc"
      },
      "execution_count": null,
      "outputs": [
        {
          "output_type": "stream",
          "name": "stdout",
          "text": [
            "[1, 2, 3] [4, 5, 6]\n"
          ]
        }
      ]
    }
  ]
}