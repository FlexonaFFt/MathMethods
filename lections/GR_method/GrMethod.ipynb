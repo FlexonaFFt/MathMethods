{
  "nbformat": 4,
  "nbformat_minor": 0,
  "metadata": {
    "colab": {
      "provenance": []
    },
    "kernelspec": {
      "name": "python3",
      "display_name": "Python 3"
    },
    "language_info": {
      "name": "python"
    }
  },
  "cells": [
    {
      "cell_type": "markdown",
      "source": [
        "# Графический метод решения задач линейного программирования\n",
        "\n",
        "Графический метод очень нагляден, но годится лишь для ограниченного круга \"двумерных\" задач. Это означает применимость лишь в случае двух переменных: поскольку их можно понимать как точки на плоскости, подобный подход и называют плоским или двумерным.\n",
        "\n",
        "Зададимся целью реализовать графический метод решения в рамках ООП."
      ],
      "metadata": {
        "id": "ZVNXvvlwShTQ"
      }
    },
    {
      "cell_type": "markdown",
      "source": [
        "### Подключаем необходимые далее модули"
      ],
      "metadata": {
        "id": "HxP5HnOmTg_w"
      }
    },
    {
      "cell_type": "code",
      "execution_count": null,
      "metadata": {
        "id": "JM-UNZj5BUfB"
      },
      "outputs": [],
      "source": [
        "import numpy as np\n",
        "import matplotlib.pyplot as plt\n",
        "import matplotlib.colors as mcolors"
      ]
    },
    {
      "cell_type": "markdown",
      "source": [
        "### Создаем класс, представляющий линейную форму $f(x_1, x_2)$\n",
        "\n",
        "Значения $x_1$ и $x_2$ являются искомыми для **целевой функции**\n",
        "\n",
        "$$ F = f(x_1, x_2). $$\n",
        "\n",
        "В правой части выражения мы наблюдаем так называемую **линейную форму**\n",
        "\n",
        "$$ f(x_1, x_2) = a \\cdot x_1 + b \\cdot x_2. $$\n",
        "\n",
        "При этом одна из переменных $x_i$, $i=1, 2$, может быть очевидным образом выражена через другую.\n",
        "\n",
        "> Чтобы явно выписать функциональную зависимость, будем обозначать независимую переменную через $x$, а зависимую -- через $y$:\n",
        ">\n",
        "> $$ y = c - \\displaystyle\\frac{a}{b} \\, x, $$\n",
        ">\n",
        "> где $c = f(x_1, x_2)$ -- значение линейной формы.\n",
        "\n",
        "Таким образом, примем $a$, $b$ и $c$ как **переменные экземпляра** класса `LinearForm`:"
      ],
      "metadata": {
        "id": "9fCAJmbtTl6Z"
      }
    },
    {
      "cell_type": "code",
      "source": [
        "class LinearForm2D:\n",
        "  def __init__(self, a, b, c=None, sign=None):\n",
        "    self.a = a\n",
        "    self.b = b\n",
        "    self.c = c\n",
        "    self.sign = sign\n",
        "    self.label = ((str(a) if a != 1 else '') + \" x_1 \" if a != 0 else '') + \\\n",
        "                   (\"+\" + (str(b) if b != 1 else '') + \" x_2 \" if b != 0 else '') + \\\n",
        "                      \"=\" + str(c)\n",
        "  # Выразить x_2 через x_1:\n",
        "  def y_func(self, x):\n",
        "    return (self.c - self.a * x) / self.b if self.b and self.b != 0.0 else None\n",
        "  # Выразить x_1 через x_2:\n",
        "  def x_func(self, y):\n",
        "    return (self.c - self.b * y) / self.a if self.a and self.a != 0.0 else None\n",
        "  # Вычислить значение линейной формы при данной комбинации x_1 и x_2:\n",
        "  def f_value(self, x1, x2):\n",
        "    return self.a*x1 + self.b*x2\n",
        "  # Подготовить график:\n",
        "  def prepare_plot(self, s = 0, f = 100, num = 10, color='black'):\n",
        "    ps = np.linspace(s, f, num)\n",
        "    xs = self.x_func(ps)\n",
        "    if(xs is not None):\n",
        "      plt.plot(xs, ps, label=self.label, color=color)\n",
        "    else:\n",
        "      ys = self.y_func(ps)\n",
        "      if(ys is not None):\n",
        "        plt.plot(ps, ys, label = self.label, color=color)\n",
        "    plt.legend()"
      ],
      "metadata": {
        "id": "Yletg62ARCO3"
      },
      "execution_count": null,
      "outputs": []
    },
    {
      "cell_type": "markdown",
      "source": [
        "Для целевой функции вида\n",
        "\n",
        "$$ F = a \\, x_1 + b \\, x_2 $$\n",
        "\n",
        "рассмотрим выражения\n",
        "\n",
        "\\begin{equation*}\n",
        "  \\begin{array}{cc}\n",
        "    x_2 = F - \\displaystyle\\frac{a}{b}\\,x_1, &\n",
        "    x_1 = F - \\displaystyle\\frac{b}{a}\\,x_2,\n",
        "  \\end{array}\n",
        "\\end{equation*}\n",
        "\n",
        "где $F$ выступает как параметр, значение которого задает так называемую **линию формы**.\n",
        "\n",
        "Иными словами, при данном значении $F$ целевой функции представленные выражения определяют функциональные зависимости, которые можно использовать, например, для отображения на графике: ясно, что графиками таких функций будут прямые.\n",
        "\n",
        "В нашей реализации эти функциональные зависимости получаются в результате использования функций, соответственно, `y_func` и `x_func`, определенных в классе `LinearForm2D`."
      ],
      "metadata": {
        "id": "Fx09sayqZAP-"
      }
    },
    {
      "cell_type": "markdown",
      "source": [
        "### Конкретный пример\n",
        "\n",
        "Рассмотрим следующую систему ограничений:\n",
        "\n",
        "\\begin{equation*}\n",
        "\\left\\{\\begin{array}{@{}l@{}}\n",
        "    2\\,x_1 + 4\\,x_2 \\leq 10,\\\\\n",
        "    x_1 \\leq 4, \\\\\n",
        "    x_2 \\leq 2, \\\\\n",
        "    x_1 \\geq 0, \\quad x_2 \\geq 0.\n",
        "  \\end{array}\\right.\n",
        "\\end{equation*}\n",
        "\n",
        "Границы соответствующих плоскостей будут заданы функциями, выражаемыми из следующих линейных форм:\n"
      ],
      "metadata": {
        "id": "P10uWdjnen2L"
      }
    },
    {
      "cell_type": "code",
      "source": [
        "# Ограничения:\n",
        "b1 = LinearForm2D(2, 4, 10, '<=')\n",
        "b2 = LinearForm2D(1, 0, 4, '<=')\n",
        "b3 = LinearForm2D(0, 1, 2, '<=')\n",
        "b4 = LinearForm2D(1, 0, 0, '>=')\n",
        "b5 = LinearForm2D(0, 1, 0, '>=')"
      ],
      "metadata": {
        "id": "BT9D5_UfgRa_"
      },
      "execution_count": null,
      "outputs": []
    },
    {
      "cell_type": "markdown",
      "source": [
        "Для удобства их можно собрать в единый список:"
      ],
      "metadata": {
        "id": "kaO4lOQqgrW7"
      }
    },
    {
      "cell_type": "code",
      "source": [
        "b_list = [b1, b2, b3, b4, b5]"
      ],
      "metadata": {
        "id": "di9o29dZgqod"
      },
      "execution_count": null,
      "outputs": []
    },
    {
      "cell_type": "markdown",
      "source": [
        "Добавим каждый элемент в отображение на плоскости $Ox_1x_2$ и посмотрим, что получается:"
      ],
      "metadata": {
        "id": "XuuH0M5JgUM1"
      }
    },
    {
      "cell_type": "code",
      "source": [
        "print(list(mcolors.BASE_COLORS.keys()))"
      ],
      "metadata": {
        "colab": {
          "base_uri": "https://localhost:8080/"
        },
        "id": "Oscu3TGP4ctZ",
        "outputId": "7753a57a-89ac-4620-fcf3-715fd4186360"
      },
      "execution_count": null,
      "outputs": [
        {
          "output_type": "stream",
          "name": "stdout",
          "text": [
            "['b', 'g', 'r', 'c', 'm', 'y', 'k', 'w']\n"
          ]
        }
      ]
    },
    {
      "cell_type": "code",
      "source": [
        "for b in b_list:\n",
        "  b.prepare_plot(s = 0, f = 5, color=list(mcolors.BASE_COLORS.keys())[b_list.index(b)])\n",
        "\n",
        "plt.xlabel(\"x_1\")\n",
        "plt.ylabel(\"x_2\")\n",
        "\n",
        "plt.xlim(0, 5)\n",
        "plt.ylim(0, 3)\n",
        "\n",
        "plt.grid()\n",
        "plt.show()"
      ],
      "metadata": {
        "colab": {
          "base_uri": "https://localhost:8080/",
          "height": 455
        },
        "id": "C4tSig6KgbNp",
        "outputId": "6e098935-2021-4b6f-e616-444c17077940"
      },
      "execution_count": null,
      "outputs": [
        {
          "output_type": "display_data",
          "data": {
            "text/plain": [
              "<Figure size 640x480 with 1 Axes>"
            ],
            "image/png": "[encoded data removed]"
          },
          "metadata": {}
        }
      ]
    },
    {
      "cell_type": "markdown",
      "source": [
        "Теперь заштрихуем область, ограниченную прямыми. Чтобы это сделать, введем соответствующие функции, генерирующие неравенства:"
      ],
      "metadata": {
        "id": "JXPVdvXSiVit"
      }
    },
    {
      "cell_type": "code",
      "source": [
        "def Ineq(f, x, y):\n",
        "  if(f.sign == '<='):\n",
        "    if(f.y_func(x) is not None):\n",
        "      return y <= f.y_func(x) if f.b > 0 else y >= f.y_func(x)\n",
        "    else:\n",
        "      return x <= f.x_func(y) if f.a > 0 else x >= f.x_func(y)\n",
        "  elif(f.sign == '>='):\n",
        "    if(f.y_func(x) is not None):\n",
        "      return y >= f.y_func(x) if f.b > 0 else y <= f.y_func(x)\n",
        "    else:\n",
        "      return x >= f.x_func(y) if f.a > 0 else x <= f.x_func(y)\n",
        "  else:\n",
        "    return None\n",
        "\n",
        "print(Ineq(b2, 1, 1))"
      ],
      "metadata": {
        "colab": {
          "base_uri": "https://localhost:8080/"
        },
        "id": "e7Ff4uxClgpa",
        "outputId": "bf6ceebd-b93e-430b-d6f7-d2a638118522"
      },
      "execution_count": null,
      "outputs": [
        {
          "output_type": "stream",
          "name": "stdout",
          "text": [
            "None\n",
            "True\n"
          ]
        }
      ]
    },
    {
      "cell_type": "markdown",
      "source": [
        "Построим область, ограниченную соответствующими неравенствами:"
      ],
      "metadata": {
        "id": "Riorp6U2oNKZ"
      }
    },
    {
      "cell_type": "code",
      "source": [
        "d = np.linspace(0, 5, 100)\n",
        "x,y = np.meshgrid(d,d)\n",
        "\n",
        "plt.imshow(\n",
        "  (Ineq(b1, x, y) & Ineq(b2, x, y) & Ineq(b3, x, y) & Ineq(b4, x, y) & Ineq(b5, x, y)).astype(int),\n",
        "  extent=(x.min(),x.max(),y.min(),y.max()), origin=\"lower\", cmap=\"Greys\", alpha = 0.3);\n",
        "\n",
        "plt.show()"
      ],
      "metadata": {
        "colab": {
          "base_uri": "https://localhost:8080/",
          "height": 435
        },
        "id": "pK9GnSEMWeS2",
        "outputId": "06dc74c0-04b5-4fec-804b-be35992cc2ed"
      },
      "execution_count": null,
      "outputs": [
        {
          "output_type": "display_data",
          "data": {
            "text/plain": [
              "<Figure size 640x480 with 1 Axes>"
            ],
            "image/png": "[encoded data removed]"
          },
          "metadata": {}
        }
      ]
    },
    {
      "cell_type": "markdown",
      "source": [
        "#### Задача №1\n",
        "\n",
        "Найти способ отображения границ и области на одном графике"
      ],
      "metadata": {
        "id": "3GV2HQLNsHF6"
      }
    },
    {
      "cell_type": "markdown",
      "source": [
        "### Поиск оптимального решения\n",
        "\n",
        "Известно, что оптимальное решение достигается в одной из точек пересечения прямых, ограничивающих область допустимых решений. Чтобы найти эти точки пересечения, необходимо решить системы вида\n",
        "\n",
        "\\begin{equation*}\n",
        "  \\left\\{\\begin{array}{@{}l@{}}\n",
        "    a_1\\,x_1 + b_1\\,x_2 = c_1,\\\\\n",
        "    a_2 \\, x_1 + b_2 \\, x_2 = c_2, \\\\\n",
        "  \\end{array}\\right.\n",
        "\\end{equation*}\n",
        "\n",
        "где зафиксированы две линейные формы, отвечающие соответственно двум прямым."
      ],
      "metadata": {
        "id": "aObij1xWsO5h"
      }
    },
    {
      "cell_type": "code",
      "source": [
        "def Point(f1, f2):\n",
        "  if (f1.a * f2.b - f1.b * f2.a == 0):\n",
        "    print(\"The equation has no solution\")\n",
        "  else:\n",
        "    d = (f1.a * f2.b - f1.b * f2.a)\n",
        "    x = (f1.c * f2.b - f1.b * f2.c) / d\n",
        "    y = (f1.a * f2.c - f1.c * f2.a) / d\n",
        "    return (x, y)\n",
        "\n",
        "print(Point(b1, b2))"
      ],
      "metadata": {
        "colab": {
          "base_uri": "https://localhost:8080/"
        },
        "id": "pJFiy6n5tQjC",
        "outputId": "e443e95b-85ce-404d-9d5f-d33e206399af"
      },
      "execution_count": null,
      "outputs": [
        {
          "output_type": "stream",
          "name": "stdout",
          "text": [
            "(4.0, 0.5)\n"
          ]
        }
      ]
    }
  ]
}