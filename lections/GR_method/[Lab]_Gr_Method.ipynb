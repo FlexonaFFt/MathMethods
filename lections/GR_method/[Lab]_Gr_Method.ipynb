{
  "nbformat": 4,
  "nbformat_minor": 0,
  "metadata": {
    "colab": {
      "provenance": []
    },
    "kernelspec": {
      "name": "python3",
      "display_name": "Python 3"
    },
    "language_info": {
      "name": "python"
    }
  },
  "cells": [
    {
      "cell_type": "code",
      "source": [
        "import numpy as np\n",
        "import matplotlib.pyplot as plt # Подключаем возможность рисовать графики\n",
        "import matplotlib.colors as mcolors # Подключаем стандартную палитру, чтобы раскрасить графики\n",
        "from itertools import combinations"
      ],
      "metadata": {
        "id": "SUBbXrRMWNZI"
      },
      "execution_count": null,
      "outputs": []
    },
    {
      "cell_type": "code",
      "execution_count": null,
      "metadata": {
        "id": "NqkA5MxTNesk"
      },
      "outputs": [],
      "source": [
        "class LinearForm2D:\n",
        "\n",
        "  def __init__(self, a, b, c = None, sign = None):\n",
        "    self._a = a\n",
        "    self._b = b\n",
        "    self._c = c\n",
        "    self._sign = sign\n",
        "    self._label = ((str(self._a) if self._a != 1 else '') + \" x_1 \" if self._a != 0 else '') + \\\n",
        "                    (\" + \" + (str(self._b) if self._b != 1 else '') + \" x_2 \" if self._b != 0 else '') + \\\n",
        "                      (self._sign + str(self._c) if self._c else '')\n",
        "\n",
        "  def __repr__(self):\n",
        "    return self._label\n",
        "\n",
        "  # Вычислить значение линейной формы (например, целевой функции)\n",
        "  # для данных значений x1 и x2\n",
        "  def f_value(self, x1, x2):\n",
        "    return self._a * x1 + self._b * x2\n",
        "\n",
        "  def x1_func(self, x2):\n",
        "    return (self._c - self._b * x2) / self._a if (self._a and self._a != 0.0) else None\n",
        "\n",
        "  def x2_func(self, x1):\n",
        "    return (self._c - self._a * x1) / self._b if (self._b and self._b != 0.0) else None\n",
        "\n",
        "  def prepare_plot(self,\n",
        "                   start = 0, finish = 10, num_of_points = 100,\n",
        "                   x1_lim_start = 0, x1_lim_finish = 10,\n",
        "                   x2_lim_start = 0, x2_lim_finish = 10,\n",
        "                   color='black'):\n",
        "    # Определяем разбиение оси абсцисс или оси ординат нашего графика:\n",
        "    points = np.linspace(start, finish, num_of_points)\n",
        "    x1s = self.x1_func(points)\n",
        "    if (x1s is not None):\n",
        "      plt.plot(x1s, points, label=self._label, color=color)\n",
        "    else:\n",
        "      x2s = self.x2_func(points)\n",
        "      if (x2s is not None):\n",
        "        plt.plot(points, x2s, label=self._label, color=color)\n",
        "    # Настройка диапазона отображения на графике:\n",
        "    plt.xlim(x1_lim_start, x1_lim_finish)\n",
        "    plt.ylim(x2_lim_start, x2_lim_finish)\n",
        "    plt.legend()"
      ]
    },
    {
      "cell_type": "code",
      "source": [
        "b1 = LinearForm2D(a=2, b=4, c=10, sign='<=')\n",
        "b2 = LinearForm2D(1, 0, 4, '<=')\n",
        "b3 = LinearForm2D(0, 1, 2, '<=')\n",
        "b4 = LinearForm2D(1, 0, 0, '>=')\n",
        "b5 = LinearForm2D(0, 1, 0, '>=')\n",
        "\n",
        "b_list = [b1, b2, b3, b4, b5]"
      ],
      "metadata": {
        "id": "MysjlJpGTDb_"
      },
      "execution_count": null,
      "outputs": []
    },
    {
      "cell_type": "code",
      "source": [
        "print(list(mcolors.BASE_COLORS.keys()))"
      ],
      "metadata": {
        "colab": {
          "base_uri": "https://localhost:8080/"
        },
        "id": "OdAdTz66gNVd",
        "outputId": "4df31a07-1829-4fd3-bc6e-1ef4218115de"
      },
      "execution_count": null,
      "outputs": [
        {
          "output_type": "stream",
          "name": "stdout",
          "text": [
            "['b', 'g', 'r', 'c', 'm', 'y', 'k', 'w']\n"
          ]
        }
      ]
    },
    {
      "cell_type": "code",
      "source": [
        "clrs = list(mcolors.BASE_COLORS.keys())\n",
        "\n",
        "for b in b_list:\n",
        "  b.prepare_plot(x1_lim_finish=5, x2_lim_finish=5, color=clrs[b_list.index(b)])\n",
        "\n",
        "plt.xlabel('x1')\n",
        "plt.ylabel('x2')\n",
        "\n",
        "plt.grid()\n",
        "\n",
        "plt.show()"
      ],
      "metadata": {
        "colab": {
          "base_uri": "https://localhost:8080/",
          "height": 455
        },
        "id": "vEkWmi-vfAAw",
        "outputId": "db630c43-1048-4c42-a034-1d84979c2e97"
      },
      "execution_count": null,
      "outputs": [
        {
          "output_type": "display_data",
          "data": {
            "text/plain": [
              "<Figure size 640x480 with 1 Axes>"
            ],
            "image/png": "[encoded data removed]"
          },
          "metadata": {}
        }
      ]
    },
    {
      "cell_type": "code",
      "source": [
        "def ineq(f, x1, x2):\n",
        "  if f._sign == '<=':\n",
        "    return f.f_value(x1, x2) <= f._c\n",
        "  elif f._sign == '>=':\n",
        "    return f.f_value(x1, x2) >= f._c\n",
        "  elif f._sign in {'==', '='}:\n",
        "    return f.f_value(x1, x2) == f._c\n",
        "  else:\n",
        "    return None\n",
        "\n",
        "print(int(ineq(b1, 0, 0)))\n",
        "print(int(ineq(b1, 1000, 0)))"
      ],
      "metadata": {
        "colab": {
          "base_uri": "https://localhost:8080/"
        },
        "id": "wqXIxgavhZih",
        "outputId": "768a6a45-df60-4386-d758-5eb5c2c9e22a"
      },
      "execution_count": null,
      "outputs": [
        {
          "output_type": "stream",
          "name": "stdout",
          "text": [
            "1\n",
            "0\n"
          ]
        }
      ]
    },
    {
      "cell_type": "code",
      "source": [
        "d = np.linspace(0, 5, 1000)\n",
        "x1, x2 = np.meshgrid(d, d)\n",
        "\n",
        "plt.imshow(\n",
        "    (ineq(b1, x1, x2) & ineq(b2, x1, x2) & ineq(b3, x1, x2) & ineq(b4, x1, x2) & ineq(b5, x1, x2)).astype(int),\n",
        "    extent=(x1.min(), x1.max(), x2.min(), x2.max()),\n",
        "    origin='lower',\n",
        "    cmap='Greys',\n",
        "    alpha=0.3\n",
        ")"
      ],
      "metadata": {
        "colab": {
          "base_uri": "https://localhost:8080/",
          "height": 452
        },
        "id": "mteis3dNit7t",
        "outputId": "38353097-1db9-4673-a8f5-c0c452986d71"
      },
      "execution_count": null,
      "outputs": [
        {
          "output_type": "execute_result",
          "data": {
            "text/plain": [
              "<matplotlib.image.AxesImage at 0x797421650280>"
            ]
          },
          "metadata": {},
          "execution_count": 63
        },
        {
          "output_type": "display_data",
          "data": {
            "text/plain": [
              "<Figure size 640x480 with 1 Axes>"
            ],
            "image/png": "[encoded data removed]"
          },
          "metadata": {}
        }
      ]
    },
    {
      "cell_type": "code",
      "source": [
        "def intersection_point(f1, f2):\n",
        "  det = f1._a * f2._b - f1._b * f2._a\n",
        "  if det == 0:\n",
        "    print('No solution found')\n",
        "    return None\n",
        "  else:\n",
        "    return (\n",
        "        (f1._c * f2._b - f1._b * f2._c) / det,\n",
        "        (f1._a * f2._c - f1._c * f2._a) / det\n",
        "    )"
      ],
      "metadata": {
        "id": "iSzKP4a7ksPG"
      },
      "execution_count": null,
      "outputs": []
    },
    {
      "cell_type": "code",
      "source": [
        "pt_is_feasible = lambda x1, x2: ineq(b1, x1, x2) & ineq(b2, x1, x2) & ineq(b3, x1, x2) & ineq(b4, x1, x2) & ineq(b5, x1, x2)\n",
        "\n",
        "Z = LinearForm2D(3, 2)\n",
        "Z_list = []\n",
        "pt_list = []\n",
        "\n",
        "for bs in list(combinations(b_list, r=2)):\n",
        "  pt = intersection_point(bs[0], bs[1])\n",
        "  if pt is not None and pt_is_feasible(pt[0], pt[1]):\n",
        "    pt_list.append(pt)\n",
        "    Z_list.append(Z.f_value(pt[0], pt[1]))\n",
        "\n",
        "Z_max = max(Z_list)\n",
        "print(Z_max, pt_list[Z_list.index(Z_max)])\n",
        "print(Z_list)"
      ],
      "metadata": {
        "colab": {
          "base_uri": "https://localhost:8080/"
        },
        "id": "UDuPrmBBnBCZ",
        "outputId": "02954ebb-4ace-4435-d40c-df7daf1556a2"
      },
      "execution_count": null,
      "outputs": [
        {
          "output_type": "stream",
          "name": "stdout",
          "text": [
            "No solution found\n",
            "No solution found\n",
            "13.0 (4.0, 0.5)\n",
            "[13.0, 7.0, 12.0, 4.0, 0.0]\n"
          ]
        }
      ]
    }
  ]
}